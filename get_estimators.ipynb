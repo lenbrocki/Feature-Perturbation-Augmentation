{
 "cells": [
  {
   "cell_type": "markdown",
   "id": "014bdcb5",
   "metadata": {
    "tags": []
   },
   "source": [
    "# Obtain importance score estimates"
   ]
  },
  {
   "cell_type": "markdown",
   "id": "fcb5cbf4",
   "metadata": {},
   "source": [
    "With this notebook we obtain the importance scores for all the considered dataset and importance estimators. Results are stored in the estimators/ folder.\n",
    "\n",
    "This notebook assumes that the models are already trained and with the weights stored in the weights/ folder.\n",
    "\n",
    "First choose for which model you want to obtain the importance scores:"
   ]
  },
  {
   "cell_type": "code",
   "execution_count": 1,
   "id": "cae9c479",
   "metadata": {},
   "outputs": [],
   "source": [
    "models = {\n",
    "        0: \"cifar\",\n",
    "        1: \"food101\",\n",
    "        2: \"imgnet\"\n",
    "}\n",
    "model_name = models[0]"
   ]
  },
  {
   "cell_type": "markdown",
   "id": "03bdd82b",
   "metadata": {},
   "source": [
    "### Imports"
   ]
  },
  {
   "cell_type": "code",
   "execution_count": 2,
   "id": "c5d5c6f8",
   "metadata": {},
   "outputs": [],
   "source": [
    "from random import randrange\n",
    "import torch\n",
    "import seaborn as sns\n",
    "from matplotlib_inline.backend_inline import set_matplotlib_formats\n",
    "import saliency.core as saliency\n",
    "import os\n",
    "from torchvision import transforms\n",
    "import matplotlib.pyplot as plt\n",
    "import numpy as np\n",
    "from tqdm import tqdm\n",
    "from pytorch_lightning import LightningModule, Trainer\n",
    "import pickle\n",
    "import glob\n",
    "import scipy\n",
    "from sklearn.model_selection import train_test_split\n",
    "\n",
    "data_dir = os.environ.get(\"PATH_DATASETS\", \".\")"
   ]
  },
  {
   "cell_type": "code",
   "execution_count": 2,
   "id": "25256d96",
   "metadata": {},
   "outputs": [
    {
     "name": "stdout",
     "output_type": "stream",
     "text": [
      "The autoreload extension is already loaded. To reload it, use:\n",
      "  %reload_ext autoreload\n"
     ]
    },
    {
     "name": "stderr",
     "output_type": "stream",
     "text": [
      "Global seed set to 7\n",
      "Global seed set to 7\n"
     ]
    }
   ],
   "source": [
    "%load_ext autoreload\n",
    "%autoreload 2\n",
    "from lightning_models.model_cifar_resnet import CIFAR_ResNet\n",
    "from lightning_models.model_imagenet import ImgNet_ResNet\n",
    "from lightning_models.model_food101 import Food101_ResNet\n",
    "\n",
    "from torchvision.datasets import CIFAR10\n",
    "from torchvision.datasets import ImageNet\n",
    "from torchvision.datasets import Food101"
   ]
  },
  {
   "cell_type": "markdown",
   "id": "0c231e18",
   "metadata": {},
   "source": [
    "### Define evaluation datasets"
   ]
  },
  {
   "cell_type": "code",
   "execution_count": 4,
   "id": "a1b6754c",
   "metadata": {},
   "outputs": [],
   "source": [
    "device = 'cuda:0'"
   ]
  },
  {
   "cell_type": "code",
   "execution_count": 5,
   "id": "01fb927b",
   "metadata": {},
   "outputs": [
    {
     "name": "stdout",
     "output_type": "stream",
     "text": [
      "Files already downloaded and verified\n"
     ]
    }
   ],
   "source": [
    "transform3d = transforms.Compose(\n",
    "    [\n",
    "        transforms.ToTensor(),\n",
    "        # normalizes images to [-1,1]\n",
    "        transforms.Normalize((0.5, 0.5, 0.5), (0.5, 0.5, 0.5)),\n",
    "    ]\n",
    ")\n",
    "\n",
    "transform_imgnet = transforms.Compose(\n",
    "    [\n",
    "        transforms.Resize(256),\n",
    "        transforms.CenterCrop(224),\n",
    "        transforms.ToTensor(),\n",
    "        transforms.ConvertImageDtype(torch.float),\n",
    "        transforms.Normalize((0.5, 0.5, 0.5), (0.5, 0.5, 0.5)),\n",
    "    ]\n",
    ")\n",
    "\n",
    "transform_food101 = transforms.Compose(\n",
    "        [\n",
    "            transforms.Resize(256),\n",
    "            transforms.CenterCrop(224),\n",
    "            transforms.ToTensor(),\n",
    "            transforms.Normalize((0.561, 0.440, 0.312), (0.252, 0.256, 0.259)),\n",
    "        ]\n",
    ")\n",
    "\n",
    "cifar = CIFAR10('./data', train=False, transform=transform3d, download=True)\n",
    "imgnet = ImageNet(root='/home/lbrocki/AugmentData/data', \n",
    "                  split='val', \n",
    "                  transform=transform_imgnet)\n",
    "food101 = Food101(\"/home/lbrocki/AugmentData/data/\", split=\"test\", transform=transform_food101)"
   ]
  },
  {
   "cell_type": "code",
   "execution_count": 6,
   "id": "31b45759",
   "metadata": {},
   "outputs": [
    {
     "ename": "FileNotFoundError",
     "evalue": "[Errno 2] No such file or directory: 'test_idx_val_imgnet.npy'",
     "output_type": "error",
     "traceback": [
      "\u001b[0;31m---------------------------------------------------------------------------\u001b[0m",
      "\u001b[0;31mFileNotFoundError\u001b[0m                         Traceback (most recent call last)",
      "Input \u001b[0;32mIn [6]\u001b[0m, in \u001b[0;36m<module>\u001b[0;34m\u001b[0m\n\u001b[1;32m      1\u001b[0m \u001b[38;5;66;03m# load the same images that were used in validation during training\u001b[39;00m\n\u001b[0;32m----> 2\u001b[0m imgnet_test_indices \u001b[38;5;241m=\u001b[39m \u001b[43mnp\u001b[49m\u001b[38;5;241;43m.\u001b[39;49m\u001b[43mload\u001b[49m\u001b[43m(\u001b[49m\u001b[38;5;124;43m'\u001b[39;49m\u001b[38;5;124;43mtest_idx_val_imgnet.npy\u001b[39;49m\u001b[38;5;124;43m'\u001b[39;49m\u001b[43m)\u001b[49m\n",
      "File \u001b[0;32m/lu/tetyda/home/lbrocki/miniconda3/envs/pytorch/lib/python3.9/site-packages/numpy/lib/npyio.py:417\u001b[0m, in \u001b[0;36mload\u001b[0;34m(file, mmap_mode, allow_pickle, fix_imports, encoding)\u001b[0m\n\u001b[1;32m    415\u001b[0m     own_fid \u001b[38;5;241m=\u001b[39m \u001b[38;5;28;01mFalse\u001b[39;00m\n\u001b[1;32m    416\u001b[0m \u001b[38;5;28;01melse\u001b[39;00m:\n\u001b[0;32m--> 417\u001b[0m     fid \u001b[38;5;241m=\u001b[39m stack\u001b[38;5;241m.\u001b[39menter_context(\u001b[38;5;28;43mopen\u001b[39;49m\u001b[43m(\u001b[49m\u001b[43mos_fspath\u001b[49m\u001b[43m(\u001b[49m\u001b[43mfile\u001b[49m\u001b[43m)\u001b[49m\u001b[43m,\u001b[49m\u001b[43m \u001b[49m\u001b[38;5;124;43m\"\u001b[39;49m\u001b[38;5;124;43mrb\u001b[39;49m\u001b[38;5;124;43m\"\u001b[39;49m\u001b[43m)\u001b[49m)\n\u001b[1;32m    418\u001b[0m     own_fid \u001b[38;5;241m=\u001b[39m \u001b[38;5;28;01mTrue\u001b[39;00m\n\u001b[1;32m    420\u001b[0m \u001b[38;5;66;03m# Code to distinguish from NumPy binary files and pickles.\u001b[39;00m\n",
      "\u001b[0;31mFileNotFoundError\u001b[0m: [Errno 2] No such file or directory: 'test_idx_val_imgnet.npy'"
     ]
    }
   ],
   "source": [
    "# load the same images that were used in validation during training\n",
    "imgnet_test_indices = np.load('test_idx_val_imgnet.npy')"
   ]
  },
  {
   "cell_type": "code",
   "execution_count": 7,
   "id": "5705a394",
   "metadata": {},
   "outputs": [],
   "source": [
    "# define subset for food101 that is used for evaluations\n",
    "_, food_test_indices = train_test_split(\n",
    "    np.arange(0,len(food101)), \n",
    "    test_size=5000, random_state=42\n",
    ")"
   ]
  },
  {
   "cell_type": "code",
   "execution_count": 8,
   "id": "6f419ee2",
   "metadata": {},
   "outputs": [
    {
     "ename": "NameError",
     "evalue": "name 'imgnet_test_indices' is not defined",
     "output_type": "error",
     "traceback": [
      "\u001b[0;31m---------------------------------------------------------------------------\u001b[0m",
      "\u001b[0;31mNameError\u001b[0m                                 Traceback (most recent call last)",
      "Input \u001b[0;32mIn [8]\u001b[0m, in \u001b[0;36m<module>\u001b[0;34m\u001b[0m\n\u001b[0;32m----> 1\u001b[0m imgnet_test \u001b[38;5;241m=\u001b[39m torch\u001b[38;5;241m.\u001b[39mutils\u001b[38;5;241m.\u001b[39mdata\u001b[38;5;241m.\u001b[39mSubset(imgnet, \u001b[43mimgnet_test_indices\u001b[49m)\n\u001b[1;32m      2\u001b[0m food101_test \u001b[38;5;241m=\u001b[39m torch\u001b[38;5;241m.\u001b[39mutils\u001b[38;5;241m.\u001b[39mdata\u001b[38;5;241m.\u001b[39mSubset(food101, food_test_indices)\n",
      "\u001b[0;31mNameError\u001b[0m: name 'imgnet_test_indices' is not defined"
     ]
    }
   ],
   "source": [
    "imgnet_test = torch.utils.data.Subset(imgnet, imgnet_test_indices)\n",
    "food101_test = torch.utils.data.Subset(food101, food_test_indices)"
   ]
  },
  {
   "cell_type": "code",
   "execution_count": 9,
   "id": "a7183c8b",
   "metadata": {},
   "outputs": [],
   "source": [
    "if(model_name == \"cifar\"):\n",
    "    data = cifar\n",
    "elif(model_name == \"food101\"):\n",
    "    data = food101_test\n",
    "elif(model_name == \"imgnet\"):\n",
    "    data = imgnet_test\n",
    "else:\n",
    "    print(\"model name error\")"
   ]
  },
  {
   "cell_type": "code",
   "execution_count": 10,
   "id": "e5663db5",
   "metadata": {},
   "outputs": [],
   "source": [
    "# transform to np array to be compatible with pip saliency\n",
    "imgs = np.stack([np.array(i[0]) for i in data])\n",
    "labels = [i[1] for i in data]"
   ]
  },
  {
   "cell_type": "markdown",
   "id": "f5f3476b",
   "metadata": {},
   "source": [
    "### Set up importance estimators using the pip saliency package"
   ]
  },
  {
   "cell_type": "code",
   "execution_count": 11,
   "id": "758c94f5",
   "metadata": {},
   "outputs": [],
   "source": [
    "def preprocess(img):\n",
    "    img = torch.tensor(img, dtype=torch.float32)\n",
    "    img = img.to(device)\n",
    "    img = img.requires_grad_(True)\n",
    "    return img"
   ]
  },
  {
   "cell_type": "code",
   "execution_count": 12,
   "id": "f1a808d6",
   "metadata": {
    "code_folding": []
   },
   "outputs": [],
   "source": [
    "class_idx_str = 'class_idx_str'\n",
    "def call_model_function(images, call_model_args=None, expected_keys=None):\n",
    "    target_class_idx = call_model_args[class_idx_str]\n",
    "    images = preprocess(images)\n",
    "    # use pre-softmax layer for creation of saliency maps\n",
    "    output = model.model(images)\n",
    "    if saliency.base.INPUT_OUTPUT_GRADIENTS in expected_keys:\n",
    "        outputs = output[:,target_class_idx]\n",
    "        grads = torch.autograd.grad(outputs, images, grad_outputs=torch.ones_like(outputs))\n",
    "        gradients = grads[0].cpu().detach().numpy()\n",
    "        return {saliency.base.INPUT_OUTPUT_GRADIENTS: gradients}"
   ]
  },
  {
   "cell_type": "code",
   "execution_count": 13,
   "id": "84090cd3",
   "metadata": {},
   "outputs": [],
   "source": [
    "gradient_saliency = saliency.GradientSaliency()\n",
    "ig = saliency.IntegratedGradients()"
   ]
  },
  {
   "cell_type": "markdown",
   "id": "a64a33db",
   "metadata": {
    "tags": []
   },
   "source": [
    "### Apply importance estimators on the dataset"
   ]
  },
  {
   "cell_type": "code",
   "execution_count": 14,
   "id": "c1372a53",
   "metadata": {},
   "outputs": [],
   "source": [
    "def setup(model_path):\n",
    "    if(model_name == \"cifar\"):\n",
    "        model = CIFAR_ResNet().to(device)\n",
    "    elif(model_name == \"food101\"):\n",
    "        model = Food101_ResNet().to(device)\n",
    "    elif(model_name == \"imgnet\"):\n",
    "        model = ImgNet_ResNet().to(device)\n",
    "    else:\n",
    "        print(\"model name error\")\n",
    "        \n",
    "    model.load_state_dict(torch.load(f\"weights/{model_path}\"))\n",
    "    \n",
    "    model.eval()\n",
    "\n",
    "    estimator_path = 'estimators/'+model_path+'/' \n",
    "\n",
    "    if(random_label):\n",
    "        str_rand = '_rl'\n",
    "    else:\n",
    "        str_rand = ''\n",
    "    #create directories to save importance estimators, if they don't already exist\n",
    "    for e in estimators:\n",
    "        try:\n",
    "            os.makedirs(estimator_path + e + str_rand)\n",
    "        except:\n",
    "            continue\n",
    "    \n",
    "    return model, estimator_path"
   ]
  },
  {
   "cell_type": "code",
   "execution_count": 17,
   "id": "ff6a98ef",
   "metadata": {},
   "outputs": [],
   "source": [
    "def create_estimators(imgs, labels, estimator_path, model):\n",
    "    model = model\n",
    "    shape = imgs.shape[1:]\n",
    "    baseline = np.zeros(shape)\n",
    "    estim_dict = {}\n",
    "    num = 10\n",
    "    for i, (img, label) in tqdm(enumerate(zip(imgs[:num], labels[:num])),total=len(imgs[:num])):\n",
    "            #use predicted class as label\n",
    "            predicted_label = model(torch.tensor(img).unsqueeze(0).to(device)).argmax()\n",
    "            call_model_args = {class_idx_str: predicted_label}\n",
    "            \n",
    "            if('vanilla' in estimators):\n",
    "                vanilla = gradient_saliency.GetMask(img, call_model_function, call_model_args)\n",
    "                estim_dict = {'vanilla': vanilla}\n",
    "\n",
    "            if('smooth_sq' in estimators):\n",
    "                smooth_sq = gradient_saliency.GetSmoothedMask(img, \n",
    "                                                              call_model_function, \n",
    "                                                              call_model_args, \n",
    "                                                              nsamples=50, \n",
    "                                                              magnitude=True)\n",
    "                estim_dict['smooth_sq'] = smooth_sq\n",
    "            if('smooth' in estimators):\n",
    "                smooth = gradient_saliency.GetSmoothedMask(img, \n",
    "                                                           call_model_function, \n",
    "                                                           call_model_args, \n",
    "                                                           nsamples=50, \n",
    "                                                           magnitude=False)\n",
    "                estim_dict['smooth'] = smooth\n",
    "\n",
    "            if('intgrad' in estimators):\n",
    "                intgrad = ig.GetMask(img, \n",
    "                             call_model_function, \n",
    "                             call_model_args, \n",
    "                             x_steps=200, \n",
    "                             x_baseline=baseline, \n",
    "                             batch_size=200)\n",
    "                estim_dict['intgrad'] = intgrad\n",
    "                            \n",
    "            for e in estimators:\n",
    "                savepath = estimator_path+e+'/img'+str(i).zfill(5)+'.npy'\n",
    "                np.save(savepath, estim_dict[e])"
   ]
  },
  {
   "cell_type": "code",
   "execution_count": 18,
   "id": "4169c8a2",
   "metadata": {},
   "outputs": [
    {
     "name": "stderr",
     "output_type": "stream",
     "text": [
      "100%|██████████| 10/10 [00:00<00:00, 17.91it/s]\n",
      "100%|██████████| 10/10 [00:00<00:00, 18.62it/s]\n",
      "100%|██████████| 10/10 [00:00<00:00, 18.91it/s]\n"
     ]
    }
   ],
   "source": [
    "# choose estimators to create importance scores for\n",
    "# estimators = [\"intgrad\", \"vanilla\",  \"smooth\", \"smooth_sq\"]\n",
    "estimators = [\"intgrad\"]\n",
    "\n",
    "perturb = [\"rand\", \"rect\", \"none\"]\n",
    "model_paths = [f\"{model_name}/{p}.pt\" for p in perturb]\n",
    "    \n",
    "random_label=False\n",
    "for model_path in model_paths:\n",
    "    model, estim_path = setup(model_path)\n",
    "    create_estimators(imgs, labels, estim_path, model)"
   ]
  },
  {
   "cell_type": "code",
   "execution_count": null,
   "id": "15f39a0a",
   "metadata": {},
   "outputs": [],
   "source": []
  }
 ],
 "metadata": {
  "kernelspec": {
   "display_name": "pytorch",
   "language": "python",
   "name": "pytorch"
  },
  "language_info": {
   "codemirror_mode": {
    "name": "ipython",
    "version": 3
   },
   "file_extension": ".py",
   "mimetype": "text/x-python",
   "name": "python",
   "nbconvert_exporter": "python",
   "pygments_lexer": "ipython3",
   "version": "3.9.10"
  }
 },
 "nbformat": 4,
 "nbformat_minor": 5
}
